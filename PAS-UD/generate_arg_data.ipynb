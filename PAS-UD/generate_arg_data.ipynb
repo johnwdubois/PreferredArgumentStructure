{
 "cells": [
  {
   "cell_type": "code",
   "execution_count": 7,
   "metadata": {},
   "outputs": [],
   "source": [
    "from collections import Counter, defaultdict, namedtuple\n",
    "import glob\n",
    "import pandas as pd\n",
    "import pickle\n",
    "from conllu import parse_tree, parse\n",
    "\n",
    "# summarize verb_dep args\n",
    "CORE_TAGS = [\"nsubj\",\n",
    "\"obj\",\n",
    "\"iobj\",\n",
    "\"csubj\",\n",
    "\"ccomp\",\n",
    "\"xcomp\"]\n",
    "\n",
    "# get all verbs and dependents\n",
    "# from UD 2.5, with Richard Futrell cliqs tool for\n",
    "# processing\n",
    "fns = glob.glob(\"UD-2.5/ud-treebanks-v2.5/*/all.c*\")\n",
    "fns = [i for i in fns if \"UD_\" in i]"
   ]
  },
  {
   "cell_type": "code",
   "execution_count": 36,
   "metadata": {},
   "outputs": [],
   "source": [
    "def get_info(sent):\n",
    "    p = parse_tree(sent)\n",
    "    try:\n",
    "        stack = [p[0]]\n",
    "    except:\n",
    "        return None\n",
    "    a = []\n",
    "    while len(stack) > 0:\n",
    "        cur = stack.pop(0)\n",
    "        curargs = []\n",
    "        for i in cur.children:\n",
    "            if (cur.token['upostag'] in [\"VERB\"]):            \n",
    "                deps = \"\"\n",
    "                deps = \"-\".join([j.token[\"deprel\"] for j in i.children if j.token[\"deprel\"] != \"punct\"])\n",
    "                curargs += [{\"pos\": i.token['upostag'], \"dep\": i.token[\"deprel\"], \"deps\": deps}]\n",
    "            stack += [i]\n",
    "        if cur.token['upostag'] in [\"VERB\"]:\n",
    "            a += [{\"pos\":cur.token[\"upostag\"],\n",
    "               \"deprel\":cur.token[\"deprel\"],\n",
    "               \"curargs\": curargs,\n",
    "                  \"token\": cur.token}]\n",
    "    return a\n",
    "\n",
    "def classify_subj(arg):\n",
    "    if \"csubj\" in arg[\"deps\"]:\n",
    "        return \"comp\"\n",
    "    if arg[\"deps\"] == \"\":\n",
    "        return arg[\"pos\"]\n",
    "    elif arg[\"deps\"] == \"det\":\n",
    "        return arg[\"pos\"] + \"-det\"\n",
    "    else:\n",
    "        return arg[\"pos\"] + \"-modified\"\n",
    "    \n",
    "def classify_obj(arg):\n",
    "    if \"xcomp\" in arg[\"deps\"] or \"ccomp\" in arg[\"dep\"]:\n",
    "        return \"comp\"\n",
    "    if arg[\"deps\"] == \"\":\n",
    "        return arg[\"pos\"]\n",
    "    elif arg[\"deps\"] == \"det\":\n",
    "        return arg[\"pos\"] + \"-det\"\n",
    "    else:\n",
    "        return arg[\"pos\"] + \"-modified\"\n",
    "\n",
    "def classify_verb_arg(a, lang):\n",
    "    d = {\"lang\": lang,\n",
    "         \"deprel\": a[\"deprel\"],\n",
    "         \"pos\": a[\"pos\"],\n",
    "         \"has_subj\": any([\"subj\" in i[\"dep\"] for i in a[\"curargs\"]]),\n",
    "         \"has_obj\": any([\"obj\" in i[\"dep\"] for i in a[\"curargs\"]]),\n",
    "         \"has_comp\": any([\"ccomp\" in i[\"dep\"] or \"xcomp\" in i[\"dep\"] for i in a[\"curargs\"]]),\n",
    "         \"subj_type\": \"_\".join([classify_subj(i) for i in a[\"curargs\"] if \"subj\" in i[\"dep\"]]),\n",
    "         \"obj_type\": \"_\".join([classify_obj(i) for i in a[\"curargs\"] if \"obj\" in i[\"dep\"]])\n",
    "        }\n",
    "    return d"
   ]
  },
  {
   "cell_type": "code",
   "execution_count": null,
   "metadata": {},
   "outputs": [],
   "source": [
    "# process all sentences, from all corpora\n",
    "langs = {fn.split(\"/\")[-2]: [get_info(sent) for sent in \n",
    "                             open(fn).read().split(\"\\n\\n\")] for fn in fns}"
   ]
  },
  {
   "cell_type": "code",
   "execution_count": null,
   "metadata": {},
   "outputs": [],
   "source": [
    "lang_d = defaultdict(list)\n",
    "for lang in langs:\n",
    "    for sent in langs[lang]:\n",
    "        if sent is not None:\n",
    "            for verb in sent:\n",
    "                lang_d[lang] += [classify_verb_arg(verb, lang)]\n",
    "df = pd.concat([pd.DataFrame(lang_d[i]) for i in lang_d])"
   ]
  },
  {
   "cell_type": "code",
   "execution_count": null,
   "metadata": {},
   "outputs": [],
   "source": [
    "df.loc[df.deprel == \"root\"].to_csv(\"args_newway_202008.csv\")            "
   ]
  },
  {
   "cell_type": "code",
   "execution_count": null,
   "metadata": {},
   "outputs": [],
   "source": []
  }
 ],
 "metadata": {
  "kernelspec": {
   "display_name": "Python 3",
   "language": "python",
   "name": "python3"
  },
  "language_info": {
   "codemirror_mode": {
    "name": "ipython",
    "version": 3
   },
   "file_extension": ".py",
   "mimetype": "text/x-python",
   "name": "python",
   "nbconvert_exporter": "python",
   "pygments_lexer": "ipython3",
   "version": "3.8.3"
  }
 },
 "nbformat": 4,
 "nbformat_minor": 2
}
