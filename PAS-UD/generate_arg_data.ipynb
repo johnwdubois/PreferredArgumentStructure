{
 "cells": [
  {
   "cell_type": "code",
   "execution_count": 102,
   "metadata": {},
   "outputs": [],
   "source": [
    "from collections import Counter, defaultdict, namedtuple\n",
    "import glob\n",
    "import pandas as pd\n",
    "import pickle\n",
    "from conllu import parse_tree, parse\n",
    "import math\n",
    "\n",
    "# summarize verb_dep args\n",
    "CORE_TAGS = [\"nsubj\",\n",
    "\"obj\",\n",
    "\"iobj\",\n",
    "\"csubj\",\n",
    "\"ccomp\",\n",
    "\"xcomp\"]\n",
    "\n",
    "# get all verbs and dependents\n",
    "# from UD 2.5, with Richard Futrell cliqs tool for\n",
    "# processing\n",
    "fns = glob.glob(\"../UD-2.5/ud-treebanks-v2.5/*/all.c*\")\n",
    "fns = [i for i in fns if \"UD_\" in i]"
   ]
  },
  {
   "cell_type": "code",
   "execution_count": 141,
   "metadata": {},
   "outputs": [],
   "source": [
    "def get_info(sent):\n",
    "    p = parse_tree(sent)\n",
    "    try:\n",
    "        stack = [p[0]]\n",
    "    except:\n",
    "        return None\n",
    "    a = []\n",
    "    while len(stack) > 0:\n",
    "        cur = stack.pop(0)\n",
    "        curargs = []\n",
    "        for i in cur.children:\n",
    "            if (cur.token['upostag'] in [\"VERB\"]):            \n",
    "                deps = \"\"\n",
    "                deps = \"-\".join([j.token[\"deprel\"] for j in \n",
    "                                 i.children if j.token[\"deprel\"] != \"punct\"])\n",
    "                curargs += [{\"pos\": i.token['upostag'],\n",
    "                             \"dep\": i.token[\"deprel\"],\n",
    "                             \"deps\": deps,\n",
    "                              \"feats\": cur.token[\"feats\"]}]\n",
    "            stack += [i]\n",
    "        if cur.token['upostag'] in [\"VERB\"]:\n",
    "            a += [{\"pos\":cur.token[\"upostag\"],\n",
    "               \"deprel\":cur.token[\"deprel\"],\n",
    "               \"curargs\": curargs,\n",
    "                  \"token\": cur.token,\n",
    "                  \"feats\": cur.token[\"feats\"]}]\n",
    "    return a\n",
    "\n",
    "def classify_subj(arg):\n",
    "    if \"csubj\" in arg[\"deps\"]:\n",
    "        return \"comp\"\n",
    "    if arg[\"deps\"] == \"\":\n",
    "        return arg[\"pos\"]\n",
    "    elif arg[\"deps\"] == \"det\":\n",
    "        return arg[\"pos\"] + \"-det\"\n",
    "    else:\n",
    "        return arg[\"pos\"] + \"-modified\"\n",
    "    \n",
    "def classify_obj(arg):\n",
    "    if \"xcomp\" in arg[\"deps\"] or \"ccomp\" in arg[\"dep\"]:\n",
    "        return \"comp\"\n",
    "    if arg[\"deps\"] == \"\":\n",
    "        return arg[\"pos\"]\n",
    "    elif arg[\"deps\"] == \"det\":\n",
    "        return arg[\"pos\"] + \"-det\"\n",
    "    else:\n",
    "        return arg[\"pos\"] + \"-modified\"\n",
    "\n",
    "def classify_verb_arg(a, lang):\n",
    "    d = {\"lang\": lang,\n",
    "         \"deprel\": a[\"deprel\"],\n",
    "         \"pos\": a[\"pos\"],\n",
    "         \"feats\": a[\"token\"][\"feats\"],\n",
    "         \"has_subj\": any([\"subj\" in i[\"dep\"] for i in a[\"curargs\"]]),\n",
    "         \"has_obj\": any([\"obj\" in i[\"dep\"] for i in a[\"curargs\"]]),\n",
    "         \"has_comp\": any([\"ccomp\" in i[\"dep\"] or \"xcomp\" in i[\"dep\"] for i in a[\"curargs\"]]),\n",
    "         \"subj_type\": \"_\".join([classify_subj(i) for i in a[\"curargs\"] if \"subj\" in i[\"dep\"]]),\n",
    "         \"obj_type\": \"_\".join([classify_obj(i) for i in a[\"curargs\"] if \"obj\" in i[\"dep\"]]),\n",
    "         \n",
    "        }\n",
    "    return d"
   ]
  },
  {
   "cell_type": "code",
   "execution_count": 154,
   "metadata": {},
   "outputs": [],
   "source": [
    "# process all sentences, from all corpora\n",
    "langs = {fn.split(\"/\")[-2]: [get_info(sent) for sent in \n",
    "                             open(fn).read().split(\"\\n\\n\")] for fn in fns} "
   ]
  },
  {
   "cell_type": "code",
   "execution_count": null,
   "metadata": {},
   "outputs": [],
   "source": [
    "lang_d = defaultdict(list)\n",
    "for lang in langs:\n",
    "    for sent in langs[lang]:\n",
    "        if sent is not None:\n",
    "            for verb in sent:\n",
    "                lang_d[lang] += [classify_verb_arg(verb, lang)]\n",
    "df = pd.concat([pd.DataFrame(lang_d[i]) for i in lang_d])"
   ]
  },
  {
   "cell_type": "code",
   "execution_count": 160,
   "metadata": {},
   "outputs": [],
   "source": [
    "def get_person_animacy(features):\n",
    "    x = [\"\", \"\"]\n",
    "    if features is None:\n",
    "        return x\n",
    "    if \"Person\" in features:\n",
    "        x[0] = features[\"Person\"]\n",
    "    if \"Animacy\" in features:\n",
    "        x[1] = features[\"Animacy\"]\n",
    "    return x\n",
    "\n",
    "def get_info_lang(lang, langs):\n",
    "    x = [i for i in langs[lang] if i is not None]\n",
    "    l = []\n",
    "    for i in x:\n",
    "        for j in i:\n",
    "            c = {\"deprel\": j[\"deprel\"],\n",
    "                \"feats\": j[\"feats\"]}\n",
    "            depcounter = Counter()\n",
    "            for arg in j[\"curargs\"]:\n",
    "                if arg[\"dep\"] != \"punct\":\n",
    "                    argwrite = depcounter[arg[\"dep\"]]\n",
    "                    c[arg[\"dep\"] + \"_\" + str(argwrite)] = (arg['pos'], arg['deps'], get_person_animacy(arg[\"feats\"]))\n",
    "                    depcounter[arg[\"dep\"]] += 1\n",
    "            l += [c]\n",
    "    df = pd.DataFrame(l)\n",
    "    df[\"lang\"] = lang\n",
    "    return df"
   ]
  },
  {
   "cell_type": "code",
   "execution_count": 161,
   "metadata": {},
   "outputs": [],
   "source": [
    "l = [get_info_lang(lang, langs) for lang in list(langs.keys())]"
   ]
  },
  {
   "cell_type": "code",
   "execution_count": 162,
   "metadata": {},
   "outputs": [],
   "source": [
    "def get_noun_type(tup):\n",
    "    if isinstance(tup, float):\n",
    "        if math.isnan(tup):\n",
    "            return 0\n",
    "    if tup[1] != \"\" and tup[1] != \"det\":\n",
    "        return 5\n",
    "    if tup[1] == \"det\" and tup[0] == \"NOUN\":\n",
    "        return 4 #tup[0] + \"_\" + tup[1]\n",
    "    if tup[0] == \"PROPN\" and tup[1] == \"\":\n",
    "        return 2\n",
    "    if tup[0] == \"PRON\":\n",
    "        return 1\n",
    "    if tup[0] == \"NOUN\" and tup[1] == \"\":\n",
    "        return 3\n",
    "    if tup[1] == \"\":\n",
    "        return tup[0]\n",
    "    return tup[0] + \"-mod\"\n",
    "\n"
   ]
  },
  {
   "cell_type": "code",
   "execution_count": null,
   "metadata": {},
   "outputs": [],
   "source": [
    "for x in l:\n",
    "    x.to_pickle(\"pickled_dfs/\" + str(l[0][\"lang\"][0]) + \".pkl\")\n",
    "    y = pd.DataFrame(x).copy()\n",
    "    for col in y.columns:\n",
    "        if \"nsubj\" in col or \"obj\" in col or \"obl\" in col:\n",
    "            y[col] = [get_noun_type(tup) for tup in list(y[col])]\n",
    "        elif col not in [\"lang\", \"deprel\", \"feats\"]:\n",
    "            y[col] = [int(not isinstance(tup, float)) for tup in list(y[col])]\n",
    "        y.to_csv(\"matrices/\" + list(y[\"lang\"])[0])"
   ]
  },
  {
   "cell_type": "code",
   "execution_count": null,
   "metadata": {},
   "outputs": [],
   "source": [
    "a = list(langs.keys())[0]\n",
    "langs[a][0]"
   ]
  },
  {
   "cell_type": "code",
   "execution_count": 159,
   "metadata": {},
   "outputs": [
    {
     "ename": "TypeError",
     "evalue": "argument of type 'NoneType' is not iterable",
     "output_type": "error",
     "traceback": [
      "\u001b[0;31m---------------------------------------------------------------------------\u001b[0m",
      "\u001b[0;31mTypeError\u001b[0m                                 Traceback (most recent call last)",
      "\u001b[0;32m<ipython-input-159-41fea16faeff>\u001b[0m in \u001b[0;36m<module>\u001b[0;34m\u001b[0m\n\u001b[0;32m----> 1\u001b[0;31m \u001b[0;34m\"Person \"\u001b[0m \u001b[0;32min\u001b[0m \u001b[0;32mNone\u001b[0m\u001b[0;34m\u001b[0m\u001b[0;34m\u001b[0m\u001b[0m\n\u001b[0m",
      "\u001b[0;31mTypeError\u001b[0m: argument of type 'NoneType' is not iterable"
     ]
    }
   ],
   "source": [
    "\"Person \" in None"
   ]
  },
  {
   "cell_type": "code",
   "execution_count": 158,
   "metadata": {},
   "outputs": [
    {
     "data": {
      "text/plain": [
       "157"
      ]
     },
     "execution_count": 158,
     "metadata": {},
     "output_type": "execute_result"
    }
   ],
   "source": [
    "len(list(langs.keys()))"
   ]
  },
  {
   "cell_type": "code",
   "execution_count": null,
   "metadata": {},
   "outputs": [],
   "source": [
    "get_info_lang(lang, langs)"
   ]
  }
 ],
 "metadata": {
  "kernelspec": {
   "display_name": "Python 3",
   "language": "python",
   "name": "python3"
  },
  "language_info": {
   "codemirror_mode": {
    "name": "ipython",
    "version": 3
   },
   "file_extension": ".py",
   "mimetype": "text/x-python",
   "name": "python",
   "nbconvert_exporter": "python",
   "pygments_lexer": "ipython3",
   "version": "3.8.3"
  }
 },
 "nbformat": 4,
 "nbformat_minor": 2
}
